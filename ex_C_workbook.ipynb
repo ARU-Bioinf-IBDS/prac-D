{
 "cells": [
  {
   "cell_type": "markdown",
   "metadata": {},
   "source": [
    "# workbook C: Conditional tests and loops\n",
    "\n",
    "Before starting this exercise you should work through\n",
    "\n",
    "* First part of *Chapter 3 Logic, Control Flow and Filtering*\n",
    "  stopping before the video \"Filtering Pandas DataFrame\",\n",
    "* First part of  *Chapter 4 Loops*\n",
    "  stopping before the video \"Looping Data Structures, part 1\",\n",
    "\n",
    "from the\n",
    "[DataCamp online course: Intermediate Python for Data Science](https://www.datacamp.com/courses/intermediate-python-for-data-science),\n",
    "\n",
    "We will then use what you have learnt there to explore how biological\n",
    "data can be handled in Python."
   ]
  },
  {
   "cell_type": "markdown",
   "metadata": {
    "collapsed": true
   },
   "source": [
    "> ### Reminder: saving your work\n",
    ">\n",
    "> As you work through the work book it is important to regularly save your work. Notice that as you have made  changes the Jupyter window top line will warn you there are `(unsaved changes)` in small text. To save your work in this notebook by either select menu item `File` `Save` or by hit the save button:\n",
    "> \n",
    "> <img src=\"./images/save_button.png\"/>\n",
    ">\n",
    "> \n",
    "> ### Reminder: getting help \n",
    "> Please see the page:\n",
    "> [Help with programming](https://canvas.anglia.ac.uk/courses/1490/pages/help-with-programming)\n",
    "> on ARU Canvas."
   ]
  },
  {
   "cell_type": "markdown",
   "metadata": {},
   "source": [
    "### Conditional tests"
   ]
  },
  {
   "cell_type": "code",
   "execution_count": null,
   "metadata": {
    "collapsed": true
   },
   "outputs": [],
   "source": [
    "# Instruction: append 'king crab' to the list organisms\n",
    "### your line here! \n",
    "\n",
    "# following lines check that 'king crab' is somewhere in the list.\n",
    "if not 'king crab' in organisms:\n",
    "    print('Error: you have not added \"king crab\" to organisms! Try again!')\n",
    "else:\n",
    "    print('Well done organisms now has a king crab in it:\\n', organisms)"
   ]
  },
  {
   "cell_type": "markdown",
   "metadata": {},
   "source": [
    "## Homework C: Conditional tests and loops\n",
    "Now go on and use conditional tests and loops explored here to complete the [homework C](./ex_C_homework.ipynb)"
   ]
  },
  {
   "cell_type": "code",
   "execution_count": null,
   "metadata": {
    "collapsed": true
   },
   "outputs": [],
   "source": []
  }
 ],
 "metadata": {
  "kernelspec": {
   "display_name": "Python 3",
   "language": "python",
   "name": "python3"
  },
  "language_info": {
   "codemirror_mode": {
    "name": "ipython",
    "version": 3
   },
   "file_extension": ".py",
   "mimetype": "text/x-python",
   "name": "python",
   "nbconvert_exporter": "python",
   "pygments_lexer": "ipython3",
   "version": "3.6.3"
  }
 },
 "nbformat": 4,
 "nbformat_minor": 2
}
