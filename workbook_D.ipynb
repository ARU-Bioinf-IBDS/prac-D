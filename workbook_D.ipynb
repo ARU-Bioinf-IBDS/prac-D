{
 "cells": [
  {
   "cell_type": "markdown",
   "metadata": {},
   "source": [
    "# workbook D: Conditional tests and loops\n",
    "\n",
    "Before starting this exercise you should work through\n",
    "\n",
    "* First part of *Chapter 3 Logic, Control Flow and Filtering*\n",
    "  stopping before the video \"Filtering Pandas DataFrame\",\n",
    "* First part of  *Chapter 4 Loops*\n",
    "  stopping before the video \"Looping Data Structures, part 1\",\n",
    "\n",
    "from the\n",
    "[DataCamp online course: Intermediate Python for Data Science](https://www.datacamp.com/courses/intermediate-python-for-data-science),\n",
    "\n",
    "We will then use what you have learnt there to explore how biological\n",
    "data can be handled in Python."
   ]
  },
  {
   "cell_type": "markdown",
   "metadata": {
    "collapsed": true
   },
   "source": [
    "> ### Reminder: saving your work\n",
    ">\n",
    "> As you work through the work book it is important to regularly save your work. Notice that as you have made  changes the Jupyter window top line will warn you there are `(unsaved changes)` in small text. To save your work in this notebook by either select menu item `File` `Save` or by hit the save button:\n",
    "> \n",
    "> ![Jupyter Notebook Save Button|](https://aru-bioinf-ibds.github.io./images/save_button.png)\n",
    ">\n",
    "> \n",
    "> ### Reminder: getting help \n",
    "> Please see the page:\n",
    "> [Help with programming](https://canvas.anglia.ac.uk/courses/12178/pages/help-with-programming)\n",
    "> on ARU Canvas."
   ]
  },
  {
   "cell_type": "markdown",
   "metadata": {},
   "source": [
    "## Comparison operators\n",
    "\n",
    "Revise the video *Comparison Operators* from *Chapter 3 Logic, Control Flow and Filtering*, [DataCamp online course: Intermediate Python for Data Science](https://www.datacamp.com/courses/intermediate-python-for-data-science).\n",
    "\n",
    "\n",
    "**Comparators**\n",
    "\n",
    "| Comparator  | meaning               | \n",
    "| :--------:  | :----------------:    |\n",
    "|      <      | strictly less than    |\n",
    "|      <=     | less than or equal    |\n",
    "|      >      | strictly greater than |\n",
    "|      >=     | greater than or equal |\n",
    "|     ==      | equal |\n",
    "|     !=      | not equal |\n",
    "\n",
    "We can use these comparators for tests.\n",
    "\n",
    "For instance to test whether num_rabbits is less than 1000:"
   ]
  },
  {
   "cell_type": "code",
   "execution_count": null,
   "metadata": {},
   "outputs": [],
   "source": [
    "# Instruction: run this cell to see an example test num_rabbits is less than 1000:\n",
    "num_rabbits = 1024\n",
    "print(num_rabbits < 1000)"
   ]
  },
  {
   "cell_type": "markdown",
   "metadata": {},
   "source": [
    "**Your turn** Now practice using these comparators."
   ]
  },
  {
   "cell_type": "code",
   "execution_count": null,
   "metadata": {},
   "outputs": [],
   "source": [
    "numb_chromosomes = 34\n",
    "base_1 = 'G'\n",
    "base_2 = 'A'\n",
    "base_3 = 'T'\n",
    "mammalian = True\n",
    "# Instruction: write Python expression, wrapped in a print function to check whether:\n",
    "# * numb_chromosomes is less than 50\n",
    "### your line here! \n",
    "\n",
    "# * numb_chromosomes is greater or equal to 34\n",
    "### your line here! \n",
    "\n",
    "# * base_1 is equal to base_2\n",
    "### your line here! \n",
    "\n",
    "# * base_2 is not equal to base_3\n",
    "### your line here! \n",
    "\n",
    "# * base_2 is greater than base_3\n",
    "### your line here! \n",
    "\n",
    "# * mammalian is True\n",
    "### your line here! "
   ]
  },
  {
   "cell_type": "markdown",
   "metadata": {},
   "source": [
    "Note that there are some subtleties involved in these comparisons. \n",
    "Strings are greater or larger than one another based on the \n",
    "[ASCII](https://en.wikipedia.org/wiki/ASCII) \n",
    "values of their characters:"
   ]
  },
  {
   "cell_type": "code",
   "execution_count": null,
   "metadata": {},
   "outputs": [],
   "source": [
    "# Instruction: run this cell to see how string comparison works in Python\n",
    "print(\"'a' < 'b' =\", 'a' < 'b')\n",
    "print(\"'cat' < 'car' =\", 'cat' < 'car')\n",
    "print(\"'car' < 'carrot' =\", 'car' < 'carrot')\n",
    "print(\"capital letters occur before lower case letters so 'A' < 'a' =\", 'A' < 'a')\n",
    "print(\"digits occur before upper case letters so '1' < 'A' =\", '1' < 'A')\n",
    "print(\"comparing numbers as strings can lead to unexpected results! '10' < '7' =\", '10' < '7')"
   ]
  },
  {
   "cell_type": "markdown",
   "metadata": {},
   "source": [
    "A second subtlety is that it is poor practice to use the equality operator on booleans - they are already either True or False to start with:"
   ]
  },
  {
   "cell_type": "code",
   "execution_count": null,
   "metadata": {},
   "outputs": [],
   "source": [
    "# Instruction: run this cell to see how booleans should be used in python\n",
    "animal = 'rabbit'\n",
    "is_mammalian = True\n",
    "\n",
    "if is_mammalian == True:  # not good practice\n",
    "    print(animal + ' is a mammal')\n",
    "    \n",
    "if is_mammalian:  # better\n",
    "    print(animal + ' is a mammal! (better)')"
   ]
  },
  {
   "cell_type": "markdown",
   "metadata": {},
   "source": [
    "To test that a boolean is `False` use the not operator:"
   ]
  },
  {
   "cell_type": "code",
   "execution_count": null,
   "metadata": {},
   "outputs": [],
   "source": [
    "is_fish = False\n",
    "if not is_fish:  # the right way of doing it. Do not use is_fish == False \n",
    "    print(animal, 'is not a fish!')"
   ]
  },
  {
   "cell_type": "markdown",
   "metadata": {},
   "source": [
    "## Making choices with  `if, elif, else `  \n",
    "\n",
    "The real use of comparator operators is to make choices in programs. For instance one\n",
    "might want to write script to check whether gene expression data is different for mammals \n",
    "compared to fish or big animals compared to small.\n",
    "\n",
    "As you have seen in the  video *if, elif, else* from *Chapter 3 Logic, Control Flow and Filtering*, [DataCamp online course: Intermediate Python for Data Science](https://www.datacamp.com/courses/intermediate-python-for-data-science) the `if condition:` can be used to apply a test.\n",
    "\n",
    "The if statement is used:\n",
    "```\n",
    "if condition:\n",
    "   expression1\n",
    "   expression2\n",
    "expression3\n",
    "```\n",
    "Notice that\n",
    "* there is a colon `:` at the end of the if line - this is essential.\n",
    "* that expression1 are expression2 indented by 4 spaces compared to the line above. (It is most normal to used 4 spaces for the indentation but 2 or 3 spaces are sometimes used. It is possible to use the tab character but this is really bad practice and should be avoided!).\n",
    "* this means that if the `condition1` is True the script will go on and run `expression1`, followed by `expression2` before going on to `expression3`.\n",
    "* But if `condition1` is False the script will ignore `expression1` and `expression2` going straight to `expression3`.\n",
    "* there must be at least one indented expression following an if condition. Here we have choosen to have two but you can have as many as you want.\n",
    "\n",
    "Lets show you an example:"
   ]
  },
  {
   "cell_type": "code",
   "execution_count": null,
   "metadata": {},
   "outputs": [],
   "source": [
    "# Instruction: run this cell to see if statment in Python\n",
    "HEAVY = 100.\n",
    "TALL = 1.8\n",
    "weight = 105.\n",
    "if weight > HEAVY: # notice the colon :\n",
    "    print('is heavy', end='')  # notice indentation by 4 spaces\n",
    "    print(' (as weight', weight, 'kg is greater than', HEAVY, 'kg)')\n",
    "height = 1.05 # this statement happens regardless of the condition\n",
    "if height > TALL:\n",
    "    print('is tall', end='')\n",
    "    print(' (as height', weight, 'm is greater than', TALL,' m)')\n",
    "print(height*weight)"
   ]
  },
  {
   "cell_type": "markdown",
   "metadata": {},
   "source": [
    "A natural extension of the `if` statement is `else:`. This is used:\n",
    "```\n",
    "if condition:\n",
    "   expression1\n",
    "   expression2\n",
    "else:\n",
    "   expression3\n",
    "   expression4\n",
    "expression5\n",
    "```\n",
    "Notice that \n",
    "* `else` is followed by a colon\n",
    "* if the `condition` is `True` the script will go on and run `expression1`, followed by `expression2` before going on to `expression5`.\n",
    "* but if  `condition` is `False` the script will go on and run `expression3`, followed by `expression4` before going on to `expression5`.\n",
    "* Once again there must be at least one indented expression following an `else:`\n"
   ]
  },
  {
   "cell_type": "code",
   "execution_count": null,
   "metadata": {},
   "outputs": [],
   "source": [
    "# Instruction: run this cell to see if .. else statment in Python\n",
    "HEAVY = 100.\n",
    "weight = 78.\n",
    "if weight >= HEAVY:\n",
    "    is_heavy = True\n",
    "else:\n",
    "    is_heavy = False\n",
    "print('is_heavy: ' + str(is_heavy))"
   ]
  },
  {
   "cell_type": "code",
   "execution_count": null,
   "metadata": {},
   "outputs": [],
   "source": [
    "# Instruction: write Python expressions for the tests below\n",
    "\n",
    "numb_chromosomes = 34\n",
    "base_a = 'A'\n",
    "base_b = 'A'\n",
    "base_c = 'U' \n",
    "animal_a = 'spider'\n",
    "mammalian_a = False\n",
    "animal_b = 'kangaroo'\n",
    "mammalian_b = True\n",
    "\n",
    "# if numb_chromosomes is less or equal to 50 print out\n",
    "# 'low chromosome number' otherwise print 'high chromosome number'\n",
    "### your lines here! \n",
    "\n",
    "# if base_a is equal to base_b print out\n",
    "# 'base a and b same' otherwise print 'base a and b different'\n",
    "### your lines here! \n",
    "\n",
    "# if base_a is equal to base_c print out\n",
    "# 'base a and c same' otherwise print 'base a and c different'\n",
    "### your lines here! \n",
    "\n",
    "# if mammalian_a is True  print out#'***** is a mammal' \n",
    "# otherwise print out '*** is NOT a mammal' where ***** is the\n",
    "# animal name\n",
    "### your lines here! "
   ]
  },
  {
   "cell_type": "markdown",
   "metadata": {},
   "source": [
    "The `elif` construction takes this further This is used:\n",
    "```\n",
    "if condition1:\n",
    "   expression1\n",
    "elif condition2:\n",
    "   expression2\n",
    "else:\n",
    "   expression3\n",
    "expression4\n",
    "```\n",
    "* Once again notice that the colon : is required at the end of the `elif`\n",
    "* if `condition1` is True then `expression1` is evaluated.\n",
    "* but if `condition1` is False then `condition2` is evaluated and if this is True then `expression2` is invoked.\n",
    "* if none of the conditions is True the `else:` takes effect and `expression3` occurs.\n",
    "* you can have as many elif tests as you wish.\n",
    "\n",
    "if, elif, else constructions can be useful in categorizing data.\n",
    "\n",
    "As an example suppose we have a dataset with a float `e_level` representing expression level. We want to divide up the into three sets:\n",
    "\n",
    "| `e_level`           | `e_class`           |\n",
    "| :-----------------: | :-----------------: |\n",
    "| `e_level` ≤ 25      | `'low expression'`  |\n",
    "| 25 < `e_level` ≤ 75 | `'mid expression'`  |\n",
    "| `e_level` > 75      | `'high expression'` |\n"
   ]
  },
  {
   "cell_type": "code",
   "execution_count": null,
   "metadata": {},
   "outputs": [],
   "source": [
    "# Instruction: write Python expressions to classify expression level \n",
    "# according to table above\n",
    "LOW_EXPRESS = 25.\n",
    "HIGH_EXPRESS = 75.\n",
    "\n",
    "# change next line to test your code\n",
    "e_level = 55.\n",
    "\n",
    "# Instruction modify next line to classify data\n",
    "e_class = 'needs to be defined'\n",
    "\n",
    "print('expression level {}: classification \"{}\"'.format(e_level, e_class))"
   ]
  },
  {
   "cell_type": "markdown",
   "metadata": {},
   "source": [
    "**Note**: instead of hard coding particular values in the `if elif else` block we have set constants `LOW_EXPRESS` and `HIGH_EXPRESS`. Constants are Python variables that are in upper case to give an indication they should not be changed.  "
   ]
  },
  {
   "cell_type": "markdown",
   "metadata": {},
   "source": [
    "## Combining booleans with the operators `and`, `or` & `not`\n",
    "\n",
    "Revise the video *Boolean Operators* (you can skip the from the Numpy section) from Chapter 3 Logic, Control Flow and Filtering, DataCamp online course: Intermediate Python for Data Science.\n",
    "\n",
    "The `and` and `or` operators are useful for combining comparison operators.\n",
    "\n",
    "For instance:"
   ]
  },
  {
   "cell_type": "code",
   "execution_count": null,
   "metadata": {},
   "outputs": [],
   "source": [
    "# Instruction: run this cell to see how and and or operators can be used in Python\n",
    "HEAVY = 90.\n",
    "TALL = 1.8\n",
    "while True: # this is an infinite loop - there must be a break statement below!\n",
    "    weight = float(input('Enter your weight (in kg): '))\n",
    "    height = float(input('Enter your height (in m): '))\n",
    "    if weight > HEAVY and height > TALL: \n",
    "        print('both heavy and tall')\n",
    "    if weight > HEAVY or height > TALL:\n",
    "        print('either heavy or tall.')\n",
    "    else:\n",
    "        print('not heavy or tall')\n",
    "    stop = input('Ask again? (y/n) default <n>: ') \n",
    "    if stop == 'n' or len(stop) ==0:\n",
    "        break"
   ]
  },
  {
   "cell_type": "markdown",
   "metadata": {},
   "source": [
    "> ## *Expert hint*\n",
    "> *The cell code cell preceeding this one prompts for you to input `y` or `n`.*\n",
    "> *While it is waiting for input the Jupyter notebook Python kernel will be busy and not able to run other cells*\n",
    "> *This can be confusing!*\n",
    "> \n",
    "> *When you run a cell normally the kernel will deal with the instruction immediately and allow further commands.*\n",
    "> *But if the cell is waiting for input then can tell that kernel is busy with because the text to the left*\n",
    "> *of the cell will look like* `In [*]:` *with an asterix in the square brackets*\n",
    ">\n",
    "> *For instance running the cell above:*\n",
    "> ![annotated image running cell above](https://aru-bioinf-ibds.github.io./images/explain_juypter_running_cells.png)\n",
    "> \n",
    "> *If you do not want to wait for a cell to complete (or if it has an infinite loop) then you can use the*\n",
    "> *Juypter notebook top menu item \"Kernel\" -> \"Interrupt\" to stop the kernel.* \n",
    "> *This is the equivalent of hitting*\n",
    "> *the `ctrl` and `C` keys simultaneously in the Linux OSX command line.*\n",
    ">\n",
    "> **Instruction: run the cell above and Interrupt the process with the top menu item \"Kernel\" -> \"Interrupt\". \n",
    "> What happens?**"
   ]
  },
  {
   "cell_type": "markdown",
   "metadata": {},
   "source": [
    "Q: Can you adapt the previous code so as to not print \"either heavy or tall\" for people who are both heavy and tall?"
   ]
  },
  {
   "cell_type": "code",
   "execution_count": null,
   "metadata": {},
   "outputs": [],
   "source": [
    "# Instruction copy the previous code and adapt it so it does not print \n",
    "# \"either heavy or tall\" for people who are both heavy and tall?"
   ]
  },
  {
   "cell_type": "markdown",
   "metadata": {},
   "source": [
    "A particular use of `and` and `or` operators is to test whether variables are in a numeric range.\n",
    "\n",
    "For instance to test whether the n_chromosomes is in the range 10 to 40 (inclusive):"
   ]
  },
  {
   "cell_type": "code",
   "execution_count": null,
   "metadata": {},
   "outputs": [],
   "source": [
    "# Instruction: run this cell to see how to test for variable in numeric range\n",
    "for _ in range(3):  # prompt 3 times\n",
    "    n_chromosomes = float(input('Enter number of chromosomes: '))\n",
    "    if n_chromosomes >= 10 and n_chromosomes <= 40:\n",
    "        print('n_chromosomes is in the range 10 to 40 (inclusive)')\n",
    "    else:\n",
    "        print('n_chromosomes NOT in the range 10 to 40 (inclusive)')"
   ]
  },
  {
   "cell_type": "markdown",
   "metadata": {},
   "source": [
    "The `not` operator is useful for inverting a logical value for instance:"
   ]
  },
  {
   "cell_type": "code",
   "execution_count": null,
   "metadata": {},
   "outputs": [],
   "source": [
    "is_tall = False\n",
    "if not is_tall:\n",
    "    print('short')"
   ]
  },
  {
   "cell_type": "code",
   "execution_count": null,
   "metadata": {},
   "outputs": [],
   "source": [
    "age = 21.25\n",
    "fish = False\n",
    "mammalian = True\n",
    "# Instruction: write Python expression followed by an informative print to check whether:\n",
    "\n",
    "# * age is greater than 18.0 and less than 65.\n",
    "### your line here! \n",
    "\n",
    "# * age is less than 18.0 or greater than 65.\n",
    "### your line here! \n",
    "\n",
    "# either fish or mammalian are True\n",
    "### your line here! \n",
    "\n",
    "# both fish and mammalian are False\n",
    "### your line here! \n",
    "\n",
    "# age is greater than 21. and mammalian is True\n",
    "### your line here! "
   ]
  },
  {
   "cell_type": "markdown",
   "metadata": {},
   "source": [
    "## `for` loops\n",
    "\n",
    "\n",
    "You should have already worked through \n",
    "* First part of  *Chapter 4 Loops*\n",
    "  stopping before the video \"Looping Data Structures, part 1\",\n",
    "\n",
    "from the\n",
    "[DataCamp online course: Intermediate Python for Data Science](https://www.datacamp.com/courses/intermediate-python-for-data-science). Make sure you look at the *for loop* video\n",
    "\n",
    "We will then use what you have learnt there to explore how biological\n",
    "\n",
    "The for loop can be used to go through lists:"
   ]
  },
  {
   "cell_type": "code",
   "execution_count": null,
   "metadata": {},
   "outputs": [],
   "source": [
    "# Instruction: run this cell to see for working through lists\n",
    "n_snips = [7, 8, 23, 21]\n",
    "for n_snip in n_snips:\n",
    "    print(n_snip)\n",
    "for species in ['human', 'mouse', 'whale', 'cabbage']: # note hard coded lists\n",
    "    print(species)"
   ]
  },
  {
   "cell_type": "markdown",
   "metadata": {},
   "source": [
    "It can also be used to go through the characters in a string:"
   ]
  },
  {
   "cell_type": "code",
   "execution_count": null,
   "metadata": {},
   "outputs": [],
   "source": [
    "# Instruction: run this cell to see for working a sequence\n",
    "peptide = 'CNCALRCDEC'\n",
    "n_c = 0\n",
    "for aa in peptide:\n",
    "    print(aa)"
   ]
  },
  {
   "cell_type": "markdown",
   "metadata": {},
   "source": [
    "As you have seen in the video if you want to have access to the index while going through a list you can use the enumerate function:"
   ]
  },
  {
   "cell_type": "code",
   "execution_count": null,
   "metadata": {},
   "outputs": [],
   "source": [
    "# Instruction: run this cell to see enumerate working\n",
    "peptide = 'CNCALRCDEC'\n",
    "for index, aa in enumerate(peptide):\n",
    "    print(index, aa)"
   ]
  },
  {
   "cell_type": "markdown",
   "metadata": {},
   "source": [
    "If you want to do an operation a given number of time use the range function:"
   ]
  },
  {
   "cell_type": "code",
   "execution_count": null,
   "metadata": {},
   "outputs": [],
   "source": [
    "# Instruction: run this cell to see range cell for counting\n",
    "for i in range(5):\n",
    "    print(i)"
   ]
  },
  {
   "cell_type": "markdown",
   "metadata": {},
   "source": [
    "This leads to a poor way of working through a list or string, that you might sometimes see:"
   ]
  },
  {
   "cell_type": "code",
   "execution_count": null,
   "metadata": {},
   "outputs": [],
   "source": [
    "# Instruction: poor way to work through a sequence\n",
    "sequence = 'GCGCGGATGCGAG'\n",
    "for i in range(len(sequence)):\n",
    "    base = sequence[i]\n",
    "    print(i, base)"
   ]
  },
  {
   "cell_type": "markdown",
   "metadata": {},
   "source": [
    "The enumerate function is clearer than this."
   ]
  },
  {
   "cell_type": "markdown",
   "metadata": {},
   "source": [
    "The `for` can be combined with conditionals to count this, for instance:"
   ]
  },
  {
   "cell_type": "code",
   "execution_count": null,
   "metadata": {},
   "outputs": [],
   "source": [
    "# Instruction: run this cell to see for working a sequence\n",
    "peptide = 'CNCALRCDEC'\n",
    "n_c = 0\n",
    "n_total = 0\n",
    "for aa in peptide:\n",
    "    n_total = n_total + 1\n",
    "    if aa == 'C':\n",
    "        n_c += 1\n",
    "print('sequence length ' + str(n_total) + \n",
    "      ' and contains ' + str(n_c) + ' Cs')"
   ]
  },
  {
   "cell_type": "markdown",
   "metadata": {},
   "source": [
    "Now it is your turn. "
   ]
  },
  {
   "cell_type": "code",
   "execution_count": null,
   "metadata": {},
   "outputs": [],
   "source": [
    "# Instruction: use a for loop to work out percentage GC in: \n",
    "sequence = 'GCGCGGATGCGAGTTTT'\n",
    "### your code here"
   ]
  },
  {
   "cell_type": "markdown",
   "metadata": {},
   "source": [
    "You already know another way to find the % GC content for the sequence using the `.count()` method and `len()` function. Does it produce the same answer?"
   ]
  },
  {
   "cell_type": "code",
   "execution_count": null,
   "metadata": {},
   "outputs": [],
   "source": [
    "# Instruction: use .count()/len*() to work out percentage GC in: \n",
    "sequence = 'GCGCGGATGCGAGTTTT'\n",
    "### your code here"
   ]
  },
  {
   "cell_type": "markdown",
   "metadata": {},
   "source": [
    "Programmers spend much more of their time reading existing code rather than writing new code. Which of the two versions of the % GC procedure would be easier to understand? \n",
    "\n",
    " ![How to add a Markdown cell in Jupyter Notebook](https://aru-bioinf-ibds.github.io./images/How_to_add_a_markdown_cell.png)\n",
    "\n",
    "Use the method above to add a new markdown cell below this one and write your answer in English not Python!"
   ]
  },
  {
   "cell_type": "markdown",
   "metadata": {},
   "source": [
    "> # *Expert hint*\n",
    ">\n",
    "> *This module aims to get you thinking about software craftmanship. Getting code that works is just the first step.*\n",
    "> *You should always aim to refactor it to be elegant. I hope that you will both work with code that is*\n",
    "> *well written and improve it. Working with code sets that poorly hacked out solutions can be a misery.*\n",
    "> \n",
    "> *The time has come to introduce you to the [Zen of Python](https://en.wikipedia.org/wiki/Zen_of_Python)* \n",
    "> *a collection of 19 guiding principles for writing computer programs. This can be displayed from*\n",
    "> *any Python interpreter by running `import this`:*"
   ]
  },
  {
   "cell_type": "code",
   "execution_count": null,
   "metadata": {},
   "outputs": [],
   "source": [
    "# instruction display the Zen of Python by running this cell\n",
    "import this"
   ]
  },
  {
   "cell_type": "markdown",
   "metadata": {},
   "source": [
    "> *For now take particularly note of `Beautiful is better than ugly.` and `Readability counts.`*\n",
    "> *Which of the two complement implementations is more `Beautiful` and which is more `Readable`?*"
   ]
  },
  {
   "cell_type": "markdown",
   "metadata": {},
   "source": [
    "## Homework D: Conditional tests and loops\n",
    "Now go on and use conditional tests and loops explored here to complete the **homework_D.ipynb** workbook"
   ]
  }
 ],
 "metadata": {
  "kernelspec": {
   "display_name": "Python 3",
   "language": "python",
   "name": "python3"
  },
  "language_info": {
   "codemirror_mode": {
    "name": "ipython",
    "version": 3
   },
   "file_extension": ".py",
   "mimetype": "text/x-python",
   "name": "python",
   "nbconvert_exporter": "python",
   "pygments_lexer": "ipython3",
   "version": "3.7.1"
  }
 },
 "nbformat": 4,
 "nbformat_minor": 2
}
